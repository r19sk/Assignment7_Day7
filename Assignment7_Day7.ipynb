{
  "nbformat": 4,
  "nbformat_minor": 0,
  "metadata": {
    "colab": {
      "name": "Assignment7_Day7.ipynb",
      "provenance": []
    },
    "kernelspec": {
      "name": "python3",
      "display_name": "Python 3"
    }
  },
  "cells": [
    {
      "cell_type": "code",
      "metadata": {
        "id": "cXHlCoEqiEv2",
        "colab_type": "code",
        "colab": {
          "base_uri": "https://localhost:8080/",
          "height": 34
        },
        "outputId": "297ae1e9-0a88-4c80-b493-ed7f9e454575"
      },
      "source": [
        "#Use given dictionary to make a new dictionary in which keys become value and values become key \n",
        "port1= {21:\"FTP\",22:\"SSH\", 23:\"telnet\", 80:\"http\"}\n",
        "port2={value:key for key, value in port1.items()}\n",
        "print(port2)"
      ],
      "execution_count": 2,
      "outputs": [
        {
          "output_type": "stream",
          "text": [
            "{'FTP': 21, 'SSH': 22, 'telnet': 23, 'http': 80}\n"
          ],
          "name": "stdout"
        }
      ]
    },
    {
      "cell_type": "code",
      "metadata": {
        "id": "qLmux_7Tj2ey",
        "colab_type": "code",
        "colab": {
          "base_uri": "https://localhost:8080/",
          "height": 34
        },
        "outputId": "10353c67-7202-43e1-c1e3-603502b99a2f"
      },
      "source": [
        "#Take a list of tuple as shown and make a new list which contains sum of tuple\n",
        "tup1=[(1,2),(3,4),(5,6),(4,5)]\n",
        "tup2=[]\n",
        "for each in range (0,len(tup1)):\n",
        "  x,y=tup1[each]\n",
        "  tup2.append(x+y)\n",
        "print (\"Sum of number of tuple is\",tup2)"
      ],
      "execution_count": 10,
      "outputs": [
        {
          "output_type": "stream",
          "text": [
            "Sum of number of tuple is [3, 7, 11, 9]\n"
          ],
          "name": "stdout"
        }
      ]
    },
    {
      "cell_type": "code",
      "metadata": {
        "id": "LAF8gajClteB",
        "colab_type": "code",
        "colab": {
          "base_uri": "https://localhost:8080/",
          "height": 34
        },
        "outputId": "bafa7bd7-46d1-456c-8f2b-e0a6842559a3"
      },
      "source": [
        "#Take a list shown and make the elements of inner list and tuples to outer list.\n",
        "list1=[(1,2,3),[1,2],['a','hit','less']]\n",
        "list2=[]\n",
        "list2=[i for each in list1 for i in each]\n",
        "print(list2)"
      ],
      "execution_count": 9,
      "outputs": [
        {
          "output_type": "stream",
          "text": [
            "[1, 2, 3, 1, 2, 'a', 'hit', 'less']\n"
          ],
          "name": "stdout"
        }
      ]
    }
  ]
}